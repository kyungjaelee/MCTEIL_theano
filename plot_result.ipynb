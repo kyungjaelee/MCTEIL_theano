{
 "cells": [
  {
   "cell_type": "code",
   "execution_count": 3,
   "metadata": {},
   "outputs": [],
   "source": [
    "\n",
    "import yaml\n",
    "import os\n",
    "import h5py, json\n",
    "import numpy as np\n",
    "import pandas as pd\n",
    "from matplotlib import pyplot as plt\n",
    "from collections import defaultdict\n",
    "%matplotlib inline\n"
   ]
  },
  {
   "cell_type": "code",
   "execution_count": 4,
   "metadata": {
    "scrolled": false
   },
   "outputs": [
    {
     "name": "stdout",
     "output_type": "stream",
     "text": [
      "results.h5\n",
      "ga_mixture_0 with 4 trajs at 0 run: 3666.07071019\n",
      "ga_mixture_0 with 11 trajs at 0 run: 3671.33657784\n",
      "ga_mixture_0 with 18 trajs at 0 run: 3603.23979465\n",
      "ga_mixture_0 with 25 trajs at 0 run: 3631.79722087\n",
      "ga_mixture_1 with 4 trajs at 0 run: 185.140935122\n",
      "ga_mixture_1 with 11 trajs at 0 run: 194.395554206\n",
      "ga_mixture_1 with 18 trajs at 0 run: 404.456015696\n",
      "ga_mixture_1 with 25 trajs at 0 run: 377.796920653\n",
      "ga with 4 trajs at 0 run: 3621.98965124\n",
      "ga with 11 trajs at 0 run: 3638.76535412\n",
      "ga with 18 trajs at 0 run: 3613.28361675\n",
      "ga with 25 trajs at 0 run: 3611.75583947\n"
     ]
    }
   ],
   "source": [
    "with open('./pipelines/im_test_gail_pipeline.yaml', 'r') as f:\n",
    "    spec = yaml.load(f)\n",
    "\n",
    "checkptdir = os.path.join(spec['options']['storagedir'], spec['options']['checkpt_subdir'])\n",
    "results_full_path = os.path.join(checkptdir, spec['options']['results_filename'])\n",
    "\n",
    "print(spec['options']['results_filename'])\n",
    "\n",
    "with pd.HDFStore(results_full_path, 'r') as f:\n",
    "    res = f['results']\n",
    "    num_traj_list    = spec['training']['dataset_num_trajs']\n",
    "    performance_list = defaultdict(lambda: np.zeros(spec['training']['runs']))\n",
    "    for alg, num_trajs, run, return_list in zip(res['alg'], res['num_trajs'], res['run'], res['alg_traj_returns']):\n",
    "        performance_list[alg,num_trajs][run] = np.mean(return_list)\n",
    "        print('{} with {} trajs at {} run: {}'.format(alg,num_trajs,run,np.mean(return_list)))"
   ]
  },
  {
   "cell_type": "code",
   "execution_count": 5,
   "metadata": {},
   "outputs": [],
   "source": [
    "mean_perf_list = np.zeros([len(spec['training']['algorithms']),len(spec['training']['dataset_num_trajs'])])\n",
    "std_perf_list = np.zeros([len(spec['training']['algorithms']),len(spec['training']['dataset_num_trajs'])])\n",
    "min_perf_list = np.zeros([len(spec['training']['algorithms']),len(spec['training']['dataset_num_trajs'])])\n",
    "max_perf_list = np.zeros([len(spec['training']['algorithms']),len(spec['training']['dataset_num_trajs'])])\n",
    "alg_list = np.unique(res['alg'])\n",
    "for num_trajs, num_trajs_idx in zip(num_traj_list, range(len(num_traj_list))):\n",
    "    for alg, alg_idx in zip(alg_list, range(len(alg_list))):\n",
    "        mean_perf_list[alg_idx,num_trajs_idx] = np.mean(performance_list[alg,num_trajs])\n",
    "        std_perf_list[alg_idx,num_trajs_idx] = np.std(performance_list[alg,num_trajs])\n",
    "        min_perf_list[alg_idx,num_trajs_idx] = np.min(performance_list[alg,num_trajs])\n",
    "        max_perf_list[alg_idx,num_trajs_idx] = np.max(performance_list[alg,num_trajs])"
   ]
  },
  {
   "cell_type": "code",
   "execution_count": 8,
   "metadata": {
    "scrolled": false
   },
   "outputs": [
    {
     "data": {
      "image/png": "[encoded data removed]",
      "text/plain": [
       "<matplotlib.figure.Figure at 0x7fcc925be850>"
      ]
     },
     "metadata": {},
     "output_type": "display_data"
    }
   ],
   "source": [
    "color_style = ['r','b','g']\n",
    "\n",
    "for alg_idx in range(len(alg_list))[::-1]:\n",
    "    plt.plot(num_traj_list, mean_perf_list[alg_idx,:], '-',color=color_style[alg_idx])\n",
    "    plt.fill_between(num_traj_list, mean_perf_list[alg_idx,:]-std_perf_list[alg_idx,:], mean_perf_list[alg_idx,:]+std_perf_list[alg_idx,:],\n",
    "                    label=alg_list[alg_idx],color=color_style[alg_idx], alpha=0.5)\n",
    "plt.ylim((3500,4000))\n",
    "plt.legend(bbox_to_anchor=(1.05, 1), loc=2, borderaxespad=0.)\n",
    "plt.show()"
   ]
  },
  {
   "cell_type": "code",
   "execution_count": null,
   "metadata": {},
   "outputs": [],
   "source": []
  }
 ],
 "metadata": {
  "kernelspec": {
   "display_name": "Python 2",
   "language": "python",
   "name": "python2"
  },
  "language_info": {
   "codemirror_mode": {
    "name": "ipython",
    "version": 2
   },
   "file_extension": ".py",
   "mimetype": "text/x-python",
   "name": "python",
   "nbconvert_exporter": "python",
   "pygments_lexer": "ipython2",
   "version": "2.7.12"
  }
 },
 "nbformat": 4,
 "nbformat_minor": 2
}
